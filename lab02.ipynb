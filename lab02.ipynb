{
  "nbformat": 4,
  "nbformat_minor": 0,
  "metadata": {
    "colab": {
      "name": "lab02.ipynb",
      "provenance": [],
      "collapsed_sections": []
    },
    "kernelspec": {
      "name": "python3",
      "display_name": "Python 3"
    }
  },
  "cells": [
    {
      "cell_type": "markdown",
      "metadata": {
        "id": "TZA62vPKNO6b"
      },
      "source": [
        "Берем датасет sklearn.datasets.boston, делим его на трэйн и тест выборку (удобно это делать функцией sklearn.model_selection.train_test_split) в отношении 70 на 30. \r\n"
      ]
    },
    {
      "cell_type": "code",
      "metadata": {
        "colab": {
          "base_uri": "https://localhost:8080/"
        },
        "id": "Ug_E__ZTNMlp",
        "outputId": "6bc8e2ee-7d6d-482f-8fb5-20d90bbeb37f"
      },
      "source": [
        "from sklearn import datasets\r\n",
        "from sklearn.model_selection import train_test_split\r\n",
        "\r\n",
        "#print(a.data)\r\n",
        "\r\n",
        "a = datasets.load_boston()\r\n",
        "\r\n",
        "X = a.data     #data\r\n",
        "y = a.target   #class\r\n",
        "\r\n",
        "X_train, X_test, y_train, y_test = train_test_split(X, y, train_size=0.7)\r\n",
        "print(len(X_train) / (len(X_train)+len(X_test)))\r\n",
        "\r\n"
      ],
      "execution_count": 46,
      "outputs": [
        {
          "output_type": "stream",
          "text": [
            "0.6996047430830039\n"
          ],
          "name": "stdout"
        }
      ]
    },
    {
      "cell_type": "markdown",
      "metadata": {
        "id": "cTQJcAb0PY2j"
      },
      "source": [
        "На тренировочной части учим линейную регрессию"
      ]
    },
    {
      "cell_type": "code",
      "metadata": {
        "id": "cc-rjyHlPYer"
      },
      "source": [
        "from sklearn.linear_model import LinearRegression\r\n",
        "lrc = LinearRegression().fit(X_train, y_train) \r\n",
        "resultLinear = lrc.predict(X_test)\r\n"
      ],
      "execution_count": 47,
      "outputs": []
    },
    {
      "cell_type": "markdown",
      "metadata": {
        "id": "mUg0iUpuRXPx"
      },
      "source": [
        "случайный лес для регрессии с 30 деревьями (обе модели есть в sklearn). \r\n"
      ]
    },
    {
      "cell_type": "code",
      "metadata": {
        "id": "6B2lbbXgRWZa"
      },
      "source": [
        "from sklearn.ensemble import RandomForestRegressor\r\n",
        "rfr = RandomForestRegressor(max_depth=3, n_estimators=30).fit(X_train, y_train)\r\n",
        "resultTree = rfc.predict(X_test)"
      ],
      "execution_count": 48,
      "outputs": []
    },
    {
      "cell_type": "markdown",
      "metadata": {
        "id": "ANg8hNRsd3GQ"
      },
      "source": [
        "Сравниваем результаты по метрике MAE (есть в sklearn). \r\n",
        "\r\n",
        "В документаци есть такая строчка\r\n",
        "\r\n",
        "**MAE output is non-negative floating point. The best value is 0.0.**\r\n",
        "\r\n",
        "Поэтому случайный лес лучше"
      ]
    },
    {
      "cell_type": "code",
      "metadata": {
        "colab": {
          "base_uri": "https://localhost:8080/"
        },
        "id": "mwF0jsUYd4G0",
        "outputId": "de2e21ed-2303-4c96-d3e9-4131bcfd1db1"
      },
      "source": [
        "from sklearn.metrics import mean_absolute_error\r\n",
        "\r\n",
        "maeLin = mean_absolute_error(y_test, resultLinear)\r\n",
        "maeTree = mean_absolute_error(y_test, resultTree)\r\n",
        "print(maeLin, maeTree)"
      ],
      "execution_count": 49,
      "outputs": [
        {
          "output_type": "stream",
          "text": [
            "3.0531873764598654 2.355824461883274\n"
          ],
          "name": "stdout"
        }
      ]
    },
    {
      "cell_type": "markdown",
      "metadata": {
        "id": "DrHTOtMhfy1p"
      },
      "source": [
        "В случайном лесе есть возможность посмотреть важность признаков, выведете ее.\r\n",
        "\r\n",
        "**как следует из рисунка ниже 12 фича имеет наивысшую важность. Судя по feature_names первые 3 места по важности распределились так:**\r\n",
        "\r\n",
        "1 - LSTAT\r\n",
        "\r\n",
        "2 - RM\r\n",
        "\r\n",
        "3 - DIS"
      ]
    },
    {
      "cell_type": "code",
      "metadata": {
        "colab": {
          "base_uri": "https://localhost:8080/",
          "height": 504
        },
        "id": "Wlfxu-aofzwd",
        "outputId": "90fe8a50-cfd2-46dc-b557-ddf0cb8634ca"
      },
      "source": [
        "import matplotlib.pyplot as plt\r\n",
        "\r\n",
        "importance = rfr.feature_importances_\r\n",
        "\r\n",
        "plt.bar([x for x in range(len(importance))], importance)\r\n",
        "plt.show()\r\n",
        "\r\n",
        "for i,v in enumerate(importance):\r\n",
        "\tprint('Feature: %2d %10s, Score: %.5f' % (i, a.feature_names[i],v))"
      ],
      "execution_count": 50,
      "outputs": [
        {
          "output_type": "display_data",
          "data": {
            "image/png": "[encoded data removed]",
            "text/plain": [
              "<Figure size 432x288 with 1 Axes>"
            ]
          },
          "metadata": {
            "tags": [],
            "needs_background": "light"
          }
        },
        {
          "output_type": "stream",
          "text": [
            "Feature:  0       CRIM, Score: 0.02675\n",
            "Feature:  1         ZN, Score: 0.00000\n",
            "Feature:  2      INDUS, Score: 0.00087\n",
            "Feature:  3       CHAS, Score: 0.00256\n",
            "Feature:  4        NOX, Score: 0.01853\n",
            "Feature:  5         RM, Score: 0.41140\n",
            "Feature:  6        AGE, Score: 0.01204\n",
            "Feature:  7        DIS, Score: 0.06315\n",
            "Feature:  8        RAD, Score: 0.00126\n",
            "Feature:  9        TAX, Score: 0.00185\n",
            "Feature: 10    PTRATIO, Score: 0.00675\n",
            "Feature: 11          B, Score: 0.00049\n",
            "Feature: 12      LSTAT, Score: 0.45436\n"
          ],
          "name": "stdout"
        }
      ]
    },
    {
      "cell_type": "markdown",
      "metadata": {
        "id": "9neHFYiwhHe7"
      },
      "source": [
        "Предложите способ выявить самый важный признак по модели линейная регрессия, выявите его по обученной вами ранее линейной регрессии.\r\n",
        "\r\n",
        "**Уравнение линейной регрессии - это по сути линейная комбинация по х (с учётом поправки - свободного члена). Если какой-то признак х имеет большую значимость, то и коэффициент у него будет большой. Соответственно признак NOX является самым важным.**"
      ]
    },
    {
      "cell_type": "code",
      "metadata": {
        "colab": {
          "base_uri": "https://localhost:8080/",
          "height": 506
        },
        "id": "2D161PBDiK7B",
        "outputId": "d4ca7dfc-17d9-4157-ad16-c901de14fc6f"
      },
      "source": [
        "importance = lrc.coef_\r\n",
        "\r\n",
        "plt.bar([x for x in range(len(importance))], importance)\r\n",
        "plt.show()\r\n",
        "\r\n",
        "for i,v in enumerate(importance):\r\n",
        "\tprint('Feature: %2d %10s, Score: %.5f' % (i, a.feature_names[i],v))"
      ],
      "execution_count": 51,
      "outputs": [
        {
          "output_type": "display_data",
          "data": {
            "image/png": "[encoded data removed]",
            "text/plain": [
              "<Figure size 432x288 with 1 Axes>"
            ]
          },
          "metadata": {
            "tags": [],
            "needs_background": "light"
          }
        },
        {
          "output_type": "stream",
          "text": [
            "Feature:  0       CRIM, Score: -0.15441\n",
            "Feature:  1         ZN, Score: 0.05778\n",
            "Feature:  2      INDUS, Score: 0.02670\n",
            "Feature:  3       CHAS, Score: 3.25146\n",
            "Feature:  4        NOX, Score: -18.19982\n",
            "Feature:  5         RM, Score: 4.19592\n",
            "Feature:  6        AGE, Score: 0.00807\n",
            "Feature:  7        DIS, Score: -1.60598\n",
            "Feature:  8        RAD, Score: 0.32551\n",
            "Feature:  9        TAX, Score: -0.01283\n",
            "Feature: 10    PTRATIO, Score: -0.90633\n",
            "Feature: 11          B, Score: 0.01359\n",
            "Feature: 12      LSTAT, Score: -0.51488\n"
          ],
          "name": "stdout"
        }
      ]
    },
    {
      "cell_type": "markdown",
      "metadata": {
        "id": "aScGjpd5q9h6"
      },
      "source": [
        "**После проделанной работы стало ясно, что разные алгоритмы по-разному выявляют важность признаков, что нужно имметь ввиду при выбора алгоритма в будущем**"
      ]
    },
    {
      "cell_type": "code",
      "metadata": {
        "id": "GZlaldwWqfZG"
      },
      "source": [
        ""
      ],
      "execution_count": 51,
      "outputs": []
    }
  ]
}