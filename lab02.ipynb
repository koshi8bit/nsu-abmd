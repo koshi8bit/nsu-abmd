{
  "nbformat": 4,
  "nbformat_minor": 0,
  "metadata": {
    "colab": {
      "name": "lab02.ipynb",
      "provenance": [],
      "collapsed_sections": []
    },
    "kernelspec": {
      "name": "python3",
      "display_name": "Python 3"
    }
  },
  "cells": [
    {
      "cell_type": "markdown",
      "metadata": {
        "id": "TZA62vPKNO6b"
      },
      "source": [
        "Берем датасет sklearn.datasets.boston, делим его на трэйн и тест выборку (удобно это делать функцией sklearn.model_selection.train_test_split) в отношении 70 на 30. \r\n"
      ]
    },
    {
      "cell_type": "code",
      "metadata": {
        "colab": {
          "base_uri": "https://localhost:8080/"
        },
        "id": "Ug_E__ZTNMlp",
        "outputId": "cbad64ef-b176-42a0-d4cc-fff59e631fc4"
      },
      "source": [
        "from sklearn import datasets\r\n",
        "from sklearn.model_selection import train_test_split\r\n",
        "\r\n",
        "#print(a.data)\r\n",
        "\r\n",
        "a = datasets.load_boston()\r\n",
        "\r\n",
        "X = a.data     #data\r\n",
        "y = a.target   #class\r\n",
        "\r\n",
        "X_train, X_test, y_train, y_test = train_test_split(X, y, train_size=0.7)\r\n",
        "print(len(X_train) / (len(X_train)+len(X_test)))\r\n",
        "\r\n"
      ],
      "execution_count": 26,
      "outputs": [
        {
          "output_type": "stream",
          "text": [
            "0.6996047430830039\n"
          ],
          "name": "stdout"
        }
      ]
    },
    {
      "cell_type": "markdown",
      "metadata": {
        "id": "cTQJcAb0PY2j"
      },
      "source": [
        "На тренировочной части учим линейную регрессию"
      ]
    },
    {
      "cell_type": "code",
      "metadata": {
        "id": "cc-rjyHlPYer"
      },
      "source": [
        "from sklearn.linear_model import LinearRegression\r\n",
        "lrc = LinearRegression().fit(X_train, y_train) \r\n",
        "resultLinear = lrc.predict(X_test)\r\n"
      ],
      "execution_count": 27,
      "outputs": []
    },
    {
      "cell_type": "markdown",
      "metadata": {
        "id": "mUg0iUpuRXPx"
      },
      "source": [
        "случайный лес для регрессии с 30 деревьями (обе модели есть в sklearn). \r\n"
      ]
    },
    {
      "cell_type": "code",
      "metadata": {
        "id": "6B2lbbXgRWZa"
      },
      "source": [
        "from sklearn.ensemble import RandomForestRegressor\r\n",
        "rfr = RandomForestRegressor(max_depth=3, n_estimators=30).fit(X_train, y_train)\r\n",
        "resultTree = rfc.predict(X_test)"
      ],
      "execution_count": 28,
      "outputs": []
    },
    {
      "cell_type": "markdown",
      "metadata": {
        "id": "ANg8hNRsd3GQ"
      },
      "source": [
        "Сравниваем результаты по метрике MAE (есть в sklearn). \r\n",
        "\r\n",
        "В документаци есть такая строчка\r\n",
        "\r\n",
        "**MAE output is non-negative floating point. The best value is 0.0.**\r\n",
        "\r\n",
        "Поэтому случайный лес лучше"
      ]
    },
    {
      "cell_type": "code",
      "metadata": {
        "colab": {
          "base_uri": "https://localhost:8080/"
        },
        "id": "mwF0jsUYd4G0",
        "outputId": "c4550b0a-1a2e-4767-b1a5-62102b825fcc"
      },
      "source": [
        "from sklearn.metrics import mean_absolute_error\r\n",
        "\r\n",
        "maeLin = mean_absolute_error(y_test, resultLinear)\r\n",
        "maeTree = mean_absolute_error(y_test, resultTree)\r\n",
        "print(maeLin, maeTree)"
      ],
      "execution_count": 29,
      "outputs": [
        {
          "output_type": "stream",
          "text": [
            "3.123354615380751 2.632084517487516\n"
          ],
          "name": "stdout"
        }
      ]
    },
    {
      "cell_type": "markdown",
      "metadata": {
        "id": "DrHTOtMhfy1p"
      },
      "source": [
        "В случайном лесе есть возможность посмотреть важность признаков, выведете ее.\r\n",
        "\r\n",
        "**как следует из рисунка ниже 12 фича имеет наивысшую важность. Судя по feature_names первые 3 места по важности распределились так:**\r\n",
        "\r\n",
        "1 - LSTAT\r\n",
        "\r\n",
        "2 - RM\r\n",
        "\r\n",
        "3 - DIS"
      ]
    },
    {
      "cell_type": "code",
      "metadata": {
        "colab": {
          "base_uri": "https://localhost:8080/",
          "height": 504
        },
        "id": "Wlfxu-aofzwd",
        "outputId": "51dd0d9e-50ed-4bd2-a592-d88e777ef78e"
      },
      "source": [
        "import matplotlib.pyplot as plt\r\n",
        "\r\n",
        "importance = rfr.feature_importances_\r\n",
        "\r\n",
        "plt.bar([x for x in range(len(importance))], importance)\r\n",
        "plt.show()\r\n",
        "\r\n",
        "for i,v in enumerate(importance):\r\n",
        "\tprint('Feature: %2d %10s, Score: %.5f' % (i, a.feature_names[i],v))"
      ],
      "execution_count": 43,
      "outputs": [
        {
          "output_type": "display_data",
          "data": {
            "image/png": "[encoded data removed]",
            "text/plain": [
              "<Figure size 432x288 with 1 Axes>"
            ]
          },
          "metadata": {
            "tags": [],
            "needs_background": "light"
          }
        },
        {
          "output_type": "stream",
          "text": [
            "Feature:  0       CRIM, Score: 0.02310\n",
            "Feature:  1         ZN, Score: 0.00000\n",
            "Feature:  2      INDUS, Score: 0.00273\n",
            "Feature:  3       CHAS, Score: 0.00000\n",
            "Feature:  4        NOX, Score: 0.01690\n",
            "Feature:  5         RM, Score: 0.32241\n",
            "Feature:  6        AGE, Score: 0.00687\n",
            "Feature:  7        DIS, Score: 0.06846\n",
            "Feature:  8        RAD, Score: 0.00126\n",
            "Feature:  9        TAX, Score: 0.00560\n",
            "Feature: 10    PTRATIO, Score: 0.00565\n",
            "Feature: 11          B, Score: 0.00000\n",
            "Feature: 12      LSTAT, Score: 0.54701\n"
          ],
          "name": "stdout"
        }
      ]
    },
    {
      "cell_type": "markdown",
      "metadata": {
        "id": "9neHFYiwhHe7"
      },
      "source": [
        "Предложите способ выявить самый важный признак по модели линейная регрессия, выявите его по обученной вами ранее линейной регрессии.\r\n",
        "\r\n",
        "В доке не сказано, какой критерий важности, поэтому сделаю предположение, что чем больше число по модулю - тем оно важнее. Соответственно признак NOX является самым важным."
      ]
    },
    {
      "cell_type": "code",
      "metadata": {
        "colab": {
          "base_uri": "https://localhost:8080/",
          "height": 504
        },
        "id": "2D161PBDiK7B",
        "outputId": "5f5e7399-5f9d-4fe0-a13c-28186acc046f"
      },
      "source": [
        "importance = lrc.coef_\r\n",
        "\r\n",
        "plt.bar([x for x in range(len(importance))], importance)\r\n",
        "plt.show()\r\n",
        "\r\n",
        "for i,v in enumerate(importance):\r\n",
        "\tprint('Feature: %2d %10s, Score: %.5f' % (i, a.feature_names[i],v))"
      ],
      "execution_count": 45,
      "outputs": [
        {
          "output_type": "display_data",
          "data": {
            "image/png": "[encoded data removed]",
            "text/plain": [
              "<Figure size 432x288 with 1 Axes>"
            ]
          },
          "metadata": {
            "tags": [],
            "needs_background": "light"
          }
        },
        {
          "output_type": "stream",
          "text": [
            "Feature:  0       CRIM, Score: -0.08086\n",
            "Feature:  1         ZN, Score: 0.04500\n",
            "Feature:  2      INDUS, Score: 0.06336\n",
            "Feature:  3       CHAS, Score: 3.47700\n",
            "Feature:  4        NOX, Score: -18.06995\n",
            "Feature:  5         RM, Score: 3.50641\n",
            "Feature:  6        AGE, Score: -0.00176\n",
            "Feature:  7        DIS, Score: -1.53897\n",
            "Feature:  8        RAD, Score: 0.25910\n",
            "Feature:  9        TAX, Score: -0.01164\n",
            "Feature: 10    PTRATIO, Score: -0.92567\n",
            "Feature: 11          B, Score: 0.00937\n",
            "Feature: 12      LSTAT, Score: -0.56550\n"
          ],
          "name": "stdout"
        }
      ]
    },
    {
      "cell_type": "markdown",
      "metadata": {
        "id": "aScGjpd5q9h6"
      },
      "source": [
        "**После проделанной работы стало ясно, что разные алгоритмы по-разному выявляют важность признаков, что нужно имметь ввиду при выбора алгоритма в будущем**"
      ]
    },
    {
      "cell_type": "code",
      "metadata": {
        "id": "GZlaldwWqfZG"
      },
      "source": [
        ""
      ],
      "execution_count": null,
      "outputs": []
    }
  ]
}