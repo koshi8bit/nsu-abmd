{
  "nbformat": 4,
  "nbformat_minor": 0,
  "metadata": {
    "colab": {
      "name": "lab02.ipynb",
      "provenance": [],
      "collapsed_sections": []
    },
    "kernelspec": {
      "name": "python3",
      "display_name": "Python 3"
    }
  },
  "cells": [
    {
      "cell_type": "markdown",
      "metadata": {
        "id": "TZA62vPKNO6b"
      },
      "source": [
        "Берем датасет sklearn.datasets.boston, делим его на трэйн и тест выборку (удобно это делать функцией sklearn.model_selection.train_test_split) в отношении 70 на 30. \r\n"
      ]
    },
    {
      "cell_type": "code",
      "metadata": {
        "colab": {
          "base_uri": "https://localhost:8080/"
        },
        "id": "Ug_E__ZTNMlp",
        "outputId": "a1d3a7e2-953f-4100-ff45-7b3ab49795d3"
      },
      "source": [
        "from sklearn import datasets\r\n",
        "from sklearn.model_selection import train_test_split\r\n",
        "\r\n",
        "#print(a.data)\r\n",
        "\r\n",
        "a = datasets.load_boston()\r\n",
        "\r\n",
        "X = a.data     #data\r\n",
        "y = a.target   #class\r\n",
        "\r\n",
        "X_train, X_test, y_train, y_test = train_test_split(X, y, train_size=0.7)\r\n",
        "print(len(X_train) / (len(X_train)+len(X_test)))\r\n",
        "\r\n"
      ],
      "execution_count": 16,
      "outputs": [
        {
          "output_type": "stream",
          "text": [
            "0.6996047430830039\n"
          ],
          "name": "stdout"
        }
      ]
    },
    {
      "cell_type": "markdown",
      "metadata": {
        "id": "cTQJcAb0PY2j"
      },
      "source": [
        "На тренировочной части учим линейную регрессию"
      ]
    },
    {
      "cell_type": "code",
      "metadata": {
        "id": "cc-rjyHlPYer"
      },
      "source": [
        "from sklearn.linear_model import LinearRegression\r\n",
        "lrc = LinearRegression().fit(X_train, y_train) \r\n",
        "#lrc.score(X_test, y_test)\r\n",
        "resultLinear = lrc.predict(X_test)\r\n"
      ],
      "execution_count": 17,
      "outputs": []
    },
    {
      "cell_type": "markdown",
      "metadata": {
        "id": "mUg0iUpuRXPx"
      },
      "source": [
        "случайный лес для регрессии с 30 деревьями (обе модели есть в sklearn). \r\n"
      ]
    },
    {
      "cell_type": "code",
      "metadata": {
        "id": "6B2lbbXgRWZa"
      },
      "source": [
        "from sklearn.ensemble import RandomForestRegressor\r\n",
        "rfr = RandomForestRegressor(max_depth=3, n_estimators=30).fit(X_train, y_train)\r\n",
        "resultTree = rfc.predict(X_test)"
      ],
      "execution_count": 18,
      "outputs": []
    },
    {
      "cell_type": "markdown",
      "metadata": {
        "id": "ANg8hNRsd3GQ"
      },
      "source": [
        "Сравниваем результаты по метрике MAE (есть в sklearn). \r\n",
        "\r\n",
        "**MAE output is non-negative floating point. The best value is 0.0.**"
      ]
    },
    {
      "cell_type": "code",
      "metadata": {
        "colab": {
          "base_uri": "https://localhost:8080/"
        },
        "id": "mwF0jsUYd4G0",
        "outputId": "f60e9f73-f7aa-466a-9375-4f501730f82d"
      },
      "source": [
        "from sklearn.metrics import mean_absolute_error\r\n",
        "\r\n",
        "maeLin = mean_absolute_error(y_test, resultLinear)\r\n",
        "maeTree = mean_absolute_error(y_test, resultTree)\r\n",
        "print(maeLin, maeTree)"
      ],
      "execution_count": 20,
      "outputs": [
        {
          "output_type": "stream",
          "text": [
            "3.3889298655185485 2.609456065980267\n"
          ],
          "name": "stdout"
        }
      ]
    }
  ]
}