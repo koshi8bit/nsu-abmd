{
  "nbformat": 4,
  "nbformat_minor": 0,
  "metadata": {
    "colab": {
      "name": "lab01.ipynb",
      "provenance": [],
      "collapsed_sections": []
    },
    "kernelspec": {
      "name": "python3",
      "display_name": "Python 3"
    }
  },
  "cells": [
    {
      "cell_type": "markdown",
      "metadata": {
        "id": "f_WYLY6aFZRy"
      },
      "source": [
        "Загрузить датасет Ирисов (sklearn.datasets.load_iris). \r\n",
        "Вывести количество объектов в датасете. \r\n",
        "Вывести количество классов, их названия. \r\n",
        "Вывести количество признаков, их названия. \r\n"
      ]
    },
    {
      "cell_type": "code",
      "metadata": {
        "colab": {
          "base_uri": "https://localhost:8080/"
        },
        "id": "TqOmQZVZEbar",
        "outputId": "ebbaca8f-b118-4097-8b3f-621f43f3eb5c"
      },
      "source": [
        "from sklearn import datasets\r\n",
        "a = datasets.load_iris()\r\n",
        "print(len(a.data))\r\n",
        "\r\n",
        "print(a.target_names)\r\n",
        "print(len(a.target_names))\r\n",
        "\r\n",
        "print(a.feature_names)\r\n",
        "\r\n",
        "#print(a)\r\n"
      ],
      "execution_count": null,
      "outputs": [
        {
          "output_type": "stream",
          "text": [
            "150\n",
            "['setosa' 'versicolor' 'virginica']\n",
            "3\n",
            "['sepal length (cm)', 'sepal width (cm)', 'petal length (cm)', 'petal width (cm)']\n"
          ],
          "name": "stdout"
        }
      ]
    },
    {
      "cell_type": "markdown",
      "metadata": {
        "id": "Vez75xT6IOMD"
      },
      "source": [
        "Разбить датасет на трейн и тест в отношении 70/30(удобно это делать функцией sklearn.model_selection.train_test_split). \r\n"
      ]
    },
    {
      "cell_type": "code",
      "metadata": {
        "colab": {
          "base_uri": "https://localhost:8080/"
        },
        "id": "jY4EyIYTIY6n",
        "outputId": "a8f10a72-d303-44ea-db3c-c7f39821cc7c"
      },
      "source": [
        "from sklearn.model_selection import train_test_split\r\n",
        "X = a.data     #data\r\n",
        "y = a.target   #class\r\n",
        "\r\n",
        "X_train, X_test, y_train, y_test = train_test_split(X, y, train_size=0.7)\r\n",
        "print(len(X_train) / (len(X_train)+len(X_test)))"
      ],
      "execution_count": null,
      "outputs": [
        {
          "output_type": "stream",
          "text": [
            "0.7\n"
          ],
          "name": "stdout"
        }
      ]
    },
    {
      "cell_type": "markdown",
      "metadata": {
        "id": "vV21Q857My9d"
      },
      "source": [
        "Обучить алгоритмы 3х ближайших соседей\r\n"
      ]
    },
    {
      "cell_type": "code",
      "metadata": {
        "colab": {
          "base_uri": "https://localhost:8080/"
        },
        "id": "klw7qNy4M04C",
        "outputId": "94164b96-20f9-4281-b2c0-b495dbc2b2d9"
      },
      "source": [
        "from sklearn.neighbors import KNeighborsClassifier\r\n",
        "from sklearn.metrics import confusion_matrix\r\n",
        "from sklearn.metrics import precision_recall_fscore_support\r\n",
        "\r\n",
        "neigh = KNeighborsClassifier(n_neighbors=3) #len(a.target_names)\r\n",
        "neigh.fit(X_train, y_train)\r\n",
        "result = neigh.predict(X_test)\r\n",
        "print(result)\r\n",
        "print(y_test)\r\n",
        "print(confusion_matrix(y_test, result))\r\n",
        "print(precision_recall_fscore_support(y_test, result, average='macro'))"
      ],
      "execution_count": null,
      "outputs": [
        {
          "output_type": "stream",
          "text": [
            "[0 0 0 1 0 1 2 1 0 2 0 2 1 0 2 2 1 0 2 1 1 2 2 1 0 2 2 1 2 1 0 0 0 0 1 1 2\n",
            " 0 0 2 1 1 2 1 2]\n",
            "[0 0 0 1 0 1 2 1 0 2 0 2 1 0 2 2 1 0 2 1 1 2 2 1 0 2 2 1 2 2 0 0 0 0 1 1 2\n",
            " 0 0 2 1 1 2 1 2]\n",
            "[[15  0  0]\n",
            " [ 0 14  0]\n",
            " [ 0  1 15]]\n",
            "(0.9777777777777779, 0.9791666666666666, 0.9777530589543938, None)\n"
          ],
          "name": "stdout"
        }
      ]
    },
    {
      "cell_type": "markdown",
      "metadata": {
        "id": "koxUGBmeT3sy"
      },
      "source": [
        "логистической регрессии"
      ]
    },
    {
      "cell_type": "code",
      "metadata": {
        "colab": {
          "base_uri": "https://localhost:8080/"
        },
        "id": "mjuDTbB-UCvv",
        "outputId": "b1a2a104-dfff-4de5-85b1-a93b83d7e8b3"
      },
      "source": [
        "from sklearn.linear_model import LogisticRegression\r\n",
        "lrc = LogisticRegression().fit(X_train, y_train)\r\n",
        "result = lrc.predict(X_test)\r\n",
        "print(result)\r\n",
        "print(y_test)\r\n"
      ],
      "execution_count": null,
      "outputs": [
        {
          "output_type": "stream",
          "text": [
            "[0 0 0 1 0 1 2 1 0 2 0 2 1 0 2 2 1 0 2 1 1 2 2 1 0 2 2 1 2 1 0 0 0 0 1 1 2\n",
            " 0 0 2 1 1 1 1 2]\n",
            "[0 0 0 1 0 1 2 1 0 2 0 2 1 0 2 2 1 0 2 1 1 2 2 1 0 2 2 1 2 2 0 0 0 0 1 1 2\n",
            " 0 0 2 1 1 2 1 2]\n"
          ],
          "name": "stdout"
        }
      ]
    },
    {
      "cell_type": "markdown",
      "metadata": {
        "id": "Lz_YbXT7VvFW"
      },
      "source": [
        "дерево"
      ]
    },
    {
      "cell_type": "code",
      "metadata": {
        "colab": {
          "base_uri": "https://localhost:8080/"
        },
        "id": "IxcQ3nXRVwCg",
        "outputId": "717341ab-ed6f-4658-9a75-e41dda9d2b7b"
      },
      "source": [
        "from sklearn.tree import DecisionTreeClassifier\r\n",
        "dtc = DecisionTreeClassifier().fit(X_train, y_train)\r\n",
        "result = dtc.predict(X_test)\r\n",
        "print(result)\r\n",
        "print(y_test)"
      ],
      "execution_count": null,
      "outputs": [
        {
          "output_type": "stream",
          "text": [
            "[0 0 0 1 0 1 2 1 0 2 0 2 1 0 2 2 1 0 2 1 1 2 2 1 0 2 2 1 2 1 0 0 0 0 1 1 2\n",
            " 0 0 1 1 1 1 1 2]\n",
            "[0 0 0 1 0 1 2 1 0 2 0 2 1 0 2 2 1 0 2 1 1 2 2 1 0 2 2 1 2 2 0 0 0 0 1 1 2\n",
            " 0 0 2 1 1 2 1 2]\n"
          ],
          "name": "stdout"
        }
      ]
    },
    {
      "cell_type": "markdown",
      "metadata": {
        "id": "TyFn45oGYDja"
      },
      "source": [
        "svm"
      ]
    },
    {
      "cell_type": "code",
      "metadata": {
        "colab": {
          "base_uri": "https://localhost:8080/"
        },
        "id": "22SgtSLcYEK0",
        "outputId": "bda1e39c-15c9-4ae0-ed65-5fcb6e8a170a"
      },
      "source": [
        "from sklearn.svm import LinearSVC\r\n",
        "svc = LinearSVC(max_iter=100000).fit(X_train, y_train)\r\n",
        "result = svc.predict(X_test)\r\n",
        "print(result)\r\n",
        "print(y_test)"
      ],
      "execution_count": null,
      "outputs": [
        {
          "output_type": "stream",
          "text": [
            "[0 0 0 1 0 1 2 1 0 2 0 2 1 0 2 2 1 0 2 1 1 2 2 1 0 2 2 1 2 2 0 0 0 0 1 1 2\n",
            " 0 0 1 1 1 2 1 2]\n",
            "[0 0 0 1 0 1 2 1 0 2 0 2 1 0 2 2 1 0 2 1 1 2 2 1 0 2 2 1 2 2 0 0 0 0 1 1 2\n",
            " 0 0 2 1 1 2 1 2]\n"
          ],
          "name": "stdout"
        }
      ]
    },
    {
      "cell_type": "markdown",
      "metadata": {
        "id": "jH7iQwfzhkmU"
      },
      "source": [
        "Выбрать только один класс (любой) как целевой и решить задачу бинарной классификации (k ближайших соседей, k выберете сами). \r\n",
        "Посчитать метрики точности, полноты, accuracy и f-меры. \r\n"
      ]
    },
    {
      "cell_type": "code",
      "metadata": {
        "colab": {
          "base_uri": "https://localhost:8080/"
        },
        "id": "OjV6gjoTt8Vk",
        "outputId": "998b8cf9-e081-4842-ebb8-39fa5e3d7519"
      },
      "source": [
        "a1 = [1, 0, 1, 2]\r\n",
        "def clearr(arr, val):\r\n",
        "  result = arr.copy()\r\n",
        "  for i, element in enumerate(result):\r\n",
        "    if element != val:\r\n",
        "      result[i] = 0\r\n",
        "    else:\r\n",
        "      result[i] = 1\r\n",
        "  return result\r\n",
        "b1 = clearr(a1, 2)\r\n",
        "\r\n",
        "print('test clearr')\r\n",
        "print(a1)\r\n",
        "print(b1)\r\n",
        "\r\n",
        "print('\\nfilter y')\r\n",
        "y_filtered = clearr(a.target, 2)\r\n",
        "print(a.target)\r\n",
        "print(y_filtered)\r\n",
        "\r\n",
        "print('\\nnew X y applyed')\r\n",
        "X_train, X_test, y_train, y_test = train_test_split(X, y_filtered, train_size=0.7)\r\n",
        "\r\n",
        "neigh = KNeighborsClassifier(n_neighbors=4)\r\n",
        "neigh.fit(X_train, y_train)\r\n",
        "result = neigh.predict(X_test)\r\n",
        "print(result)\r\n",
        "print(y_test)\r\n",
        "print(precision_recall_fscore_support(y_test, result, average='binary'))\r\n",
        "print(neigh.score(X_test, y_test))\r\n"
      ],
      "execution_count": 151,
      "outputs": [
        {
          "output_type": "stream",
          "text": [
            "test clearr\n",
            "[1, 0, 1, 2]\n",
            "[0, 0, 0, 1]\n",
            "\n",
            "filter y\n",
            "[0 0 0 0 0 0 0 0 0 0 0 0 0 0 0 0 0 0 0 0 0 0 0 0 0 0 0 0 0 0 0 0 0 0 0 0 0\n",
            " 0 0 0 0 0 0 0 0 0 0 0 0 0 1 1 1 1 1 1 1 1 1 1 1 1 1 1 1 1 1 1 1 1 1 1 1 1\n",
            " 1 1 1 1 1 1 1 1 1 1 1 1 1 1 1 1 1 1 1 1 1 1 1 1 1 1 2 2 2 2 2 2 2 2 2 2 2\n",
            " 2 2 2 2 2 2 2 2 2 2 2 2 2 2 2 2 2 2 2 2 2 2 2 2 2 2 2 2 2 2 2 2 2 2 2 2 2\n",
            " 2 2]\n",
            "[0 0 0 0 0 0 0 0 0 0 0 0 0 0 0 0 0 0 0 0 0 0 0 0 0 0 0 0 0 0 0 0 0 0 0 0 0\n",
            " 0 0 0 0 0 0 0 0 0 0 0 0 0 0 0 0 0 0 0 0 0 0 0 0 0 0 0 0 0 0 0 0 0 0 0 0 0\n",
            " 0 0 0 0 0 0 0 0 0 0 0 0 0 0 0 0 0 0 0 0 0 0 0 0 0 0 1 1 1 1 1 1 1 1 1 1 1\n",
            " 1 1 1 1 1 1 1 1 1 1 1 1 1 1 1 1 1 1 1 1 1 1 1 1 1 1 1 1 1 1 1 1 1 1 1 1 1\n",
            " 1 1]\n",
            "\n",
            "new X y applyed\n",
            "[0 1 0 1 1 0 0 0 0 1 0 0 0 0 1 0 1 0 0 1 1 0 0 0 0 1 0 0 0 0 0 0 0 1 0 1 1\n",
            " 0 1 0 0 0 0 0 1]\n",
            "[0 1 0 1 1 0 0 0 0 1 0 0 0 0 1 0 1 0 0 1 1 1 0 0 0 1 0 0 0 0 0 0 0 1 0 1 1\n",
            " 0 1 0 0 0 0 0 1]\n",
            "(1.0, 0.9333333333333333, 0.9655172413793104, None)\n",
            "0.9777777777777777\n"
          ],
          "name": "stdout"
        }
      ]
    }
  ]
}