{
  "nbformat": 4,
  "nbformat_minor": 0,
  "metadata": {
    "colab": {
      "name": "lab01.ipynb",
      "provenance": [],
      "collapsed_sections": []
    },
    "kernelspec": {
      "name": "python3",
      "display_name": "Python 3"
    }
  },
  "cells": [
    {
      "cell_type": "markdown",
      "metadata": {
        "id": "f_WYLY6aFZRy"
      },
      "source": [
        "Загрузить датасет Ирисов (sklearn.datasets.load_iris). \r\n",
        "Вывести количество объектов в датасете. \r\n",
        "Вывести количество классов, их названия. \r\n",
        "Вывести количество признаков, их названия. \r\n"
      ]
    },
    {
      "cell_type": "code",
      "metadata": {
        "colab": {
          "base_uri": "https://localhost:8080/"
        },
        "id": "TqOmQZVZEbar",
        "outputId": "8a16791b-b97f-4b21-f9cd-428372a8fc15"
      },
      "source": [
        "from sklearn import datasets\r\n",
        "a = datasets.load_iris()\r\n",
        "print(len(a.data))\r\n",
        "\r\n",
        "print(a.target_names)\r\n",
        "print(len(a.target_names))\r\n",
        "\r\n",
        "print(a.feature_names)\r\n",
        "\r\n",
        "#print(a)\r\n"
      ],
      "execution_count": 119,
      "outputs": [
        {
          "output_type": "stream",
          "text": [
            "150\n",
            "['setosa' 'versicolor' 'virginica']\n",
            "3\n",
            "['sepal length (cm)', 'sepal width (cm)', 'petal length (cm)', 'petal width (cm)']\n"
          ],
          "name": "stdout"
        }
      ]
    },
    {
      "cell_type": "markdown",
      "metadata": {
        "id": "Vez75xT6IOMD"
      },
      "source": [
        "Разбить датасет на трейн и тест в отношении 70/30(удобно это делать функцией sklearn.model_selection.train_test_split). \r\n"
      ]
    },
    {
      "cell_type": "code",
      "metadata": {
        "colab": {
          "base_uri": "https://localhost:8080/"
        },
        "id": "jY4EyIYTIY6n",
        "outputId": "859e674e-d10c-4ebe-8b81-63dcbbd9fe36"
      },
      "source": [
        "from sklearn.model_selection import train_test_split\r\n",
        "X = a.data     #data\r\n",
        "y = a.target   #class\r\n",
        "\r\n",
        "X_train, X_test, y_train, y_test = train_test_split(X, y, train_size=0.7)\r\n",
        "print(len(X_train) / (len(X_train)+len(X_test)))"
      ],
      "execution_count": 120,
      "outputs": [
        {
          "output_type": "stream",
          "text": [
            "0.7\n"
          ],
          "name": "stdout"
        }
      ]
    },
    {
      "cell_type": "markdown",
      "metadata": {
        "id": "vV21Q857My9d"
      },
      "source": [
        "Обучить алгоритмы 3х ближайших соседей\r\n"
      ]
    },
    {
      "cell_type": "code",
      "metadata": {
        "colab": {
          "base_uri": "https://localhost:8080/"
        },
        "id": "klw7qNy4M04C",
        "outputId": "51cf1802-2ddb-4400-d344-3072c317d567"
      },
      "source": [
        "from sklearn.neighbors import KNeighborsClassifier\r\n",
        "from sklearn.metrics import confusion_matrix\r\n",
        "from sklearn.metrics import precision_recall_fscore_support\r\n",
        "\r\n",
        "neigh = KNeighborsClassifier(n_neighbors=3) #len(a.target_names)\r\n",
        "neigh.fit(X_train, y_train)\r\n",
        "result = neigh.predict(X_test)\r\n",
        "print(result)\r\n",
        "print(y_test)\r\n",
        "print(confusion_matrix(y_test, result))\r\n",
        "print(precision_recall_fscore_support(y_test, result, average='macro'))"
      ],
      "execution_count": 121,
      "outputs": [
        {
          "output_type": "stream",
          "text": [
            "[0 0 1 0 2 2 1 1 1 0 1 2 1 2 2 2 0 2 1 1 0 0 2 2 1 2 0 2 2 0 2 2 1 2 2 2 2\n",
            " 2 1 1 0 1 1 1 2]\n",
            "[0 0 1 0 2 2 1 2 1 0 1 2 1 2 2 2 0 2 1 1 0 0 1 2 1 2 0 2 2 0 2 1 1 2 2 1 2\n",
            " 2 1 1 0 1 1 1 2]\n",
            "[[10  0  0]\n",
            " [ 0 14  3]\n",
            " [ 0  1 17]]\n",
            "(0.9277777777777777, 0.9226579520697168, 0.9232456140350878, None)\n"
          ],
          "name": "stdout"
        }
      ]
    },
    {
      "cell_type": "markdown",
      "metadata": {
        "id": "koxUGBmeT3sy"
      },
      "source": [
        "логистической регрессии"
      ]
    },
    {
      "cell_type": "code",
      "metadata": {
        "colab": {
          "base_uri": "https://localhost:8080/"
        },
        "id": "mjuDTbB-UCvv",
        "outputId": "750dd423-6be6-477e-8718-c8c7df6d2818"
      },
      "source": [
        "from sklearn.linear_model import LogisticRegression\r\n",
        "lrc = LogisticRegression().fit(X_train, y_train)\r\n",
        "result = lrc.predict(X_test)\r\n",
        "print(result)\r\n",
        "print(y_test)\r\n"
      ],
      "execution_count": 122,
      "outputs": [
        {
          "output_type": "stream",
          "text": [
            "[0 0 1 0 2 2 1 1 1 0 1 2 1 2 2 2 0 2 1 1 0 0 1 2 1 2 0 2 2 0 2 2 1 2 2 1 2\n",
            " 2 1 1 0 1 1 1 2]\n",
            "[0 0 1 0 2 2 1 2 1 0 1 2 1 2 2 2 0 2 1 1 0 0 1 2 1 2 0 2 2 0 2 1 1 2 2 1 2\n",
            " 2 1 1 0 1 1 1 2]\n"
          ],
          "name": "stdout"
        }
      ]
    },
    {
      "cell_type": "markdown",
      "metadata": {
        "id": "Lz_YbXT7VvFW"
      },
      "source": [
        "дерево"
      ]
    },
    {
      "cell_type": "code",
      "metadata": {
        "colab": {
          "base_uri": "https://localhost:8080/"
        },
        "id": "IxcQ3nXRVwCg",
        "outputId": "d953916c-3b82-4a81-b52c-6e22bfbaadb7"
      },
      "source": [
        "from sklearn.tree import DecisionTreeClassifier\r\n",
        "dtc = DecisionTreeClassifier().fit(X_train, y_train)\r\n",
        "result = dtc.predict(X_test)\r\n",
        "print(result)\r\n",
        "print(y_test)"
      ],
      "execution_count": 123,
      "outputs": [
        {
          "output_type": "stream",
          "text": [
            "[0 0 1 0 2 2 1 1 1 0 1 2 1 2 2 2 0 2 1 1 0 0 1 2 1 2 0 2 2 0 1 2 1 2 2 1 2\n",
            " 2 1 1 0 1 1 1 2]\n",
            "[0 0 1 0 2 2 1 2 1 0 1 2 1 2 2 2 0 2 1 1 0 0 1 2 1 2 0 2 2 0 2 1 1 2 2 1 2\n",
            " 2 1 1 0 1 1 1 2]\n"
          ],
          "name": "stdout"
        }
      ]
    },
    {
      "cell_type": "markdown",
      "metadata": {
        "id": "TyFn45oGYDja"
      },
      "source": [
        "svm"
      ]
    },
    {
      "cell_type": "code",
      "metadata": {
        "colab": {
          "base_uri": "https://localhost:8080/"
        },
        "id": "22SgtSLcYEK0",
        "outputId": "dcbe13fd-d3e8-42fb-cbee-7f20c4b838de"
      },
      "source": [
        "from sklearn.svm import LinearSVC\r\n",
        "svc = LinearSVC(max_iter=100000).fit(X_train, y_train)\r\n",
        "result = svc.predict(X_test)\r\n",
        "print(result)\r\n",
        "print(y_test)"
      ],
      "execution_count": 124,
      "outputs": [
        {
          "output_type": "stream",
          "text": [
            "[0 0 1 0 2 2 1 2 1 0 1 2 1 2 2 1 0 2 1 1 0 0 1 2 1 2 0 2 2 0 2 2 1 2 2 1 2\n",
            " 2 1 1 0 1 1 1 2]\n",
            "[0 0 1 0 2 2 1 2 1 0 1 2 1 2 2 2 0 2 1 1 0 0 1 2 1 2 0 2 2 0 2 1 1 2 2 1 2\n",
            " 2 1 1 0 1 1 1 2]\n"
          ],
          "name": "stdout"
        }
      ]
    },
    {
      "cell_type": "markdown",
      "metadata": {
        "id": "jH7iQwfzhkmU"
      },
      "source": [
        "Выбрать только один класс (virginica) как целевой и решить задачу бинарной классификации (k ближайших соседей, k выберете сами). \r\n"
      ]
    },
    {
      "cell_type": "code",
      "metadata": {
        "colab": {
          "base_uri": "https://localhost:8080/"
        },
        "id": "OjV6gjoTt8Vk",
        "outputId": "1b33e842-f0a5-4dae-93a0-dd585d46b805"
      },
      "source": [
        "a = [1, 0, 1, 2]\r\n",
        "def clearr(arr, val):\r\n",
        "  for i, element in enumerate(arr):\r\n",
        "    if element != val:\r\n",
        "      arr[i] = val+1\r\n",
        "\r\n",
        "clearr(a, 2)\r\n",
        "a\r\n"
      ],
      "execution_count": 132,
      "outputs": [
        {
          "output_type": "execute_result",
          "data": {
            "text/plain": [
              "[3, 3, 3, 2]"
            ]
          },
          "metadata": {
            "tags": []
          },
          "execution_count": 132
        }
      ]
    }
  ]
}