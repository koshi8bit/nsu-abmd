{
  "nbformat": 4,
  "nbformat_minor": 0,
  "metadata": {
    "colab": {
      "name": "lab01.ipynb",
      "provenance": [],
      "collapsed_sections": []
    },
    "kernelspec": {
      "name": "python3",
      "display_name": "Python 3"
    }
  },
  "cells": [
    {
      "cell_type": "markdown",
      "metadata": {
        "id": "f_WYLY6aFZRy"
      },
      "source": [
        "Загрузить датасет Ирисов (sklearn.datasets.load_iris). \r\n",
        "Вывести количество объектов в датасете. \r\n",
        "Вывести количество классов, их названия. \r\n",
        "Вывести количество признаков, их названия. \r\n"
      ]
    },
    {
      "cell_type": "code",
      "metadata": {
        "colab": {
          "base_uri": "https://localhost:8080/"
        },
        "id": "TqOmQZVZEbar",
        "outputId": "564d00b9-a876-422e-f798-7ce8efef8aa8"
      },
      "source": [
        "from sklearn import datasets\r\n",
        "a = datasets.load_iris()\r\n",
        "print(len(a.data))\r\n",
        "\r\n",
        "print(a.target_names)\r\n",
        "print(len(a.target_names))\r\n",
        "\r\n",
        "print(a.feature_names)\r\n",
        "\r\n",
        "#print(a)\r\n"
      ],
      "execution_count": 31,
      "outputs": [
        {
          "output_type": "stream",
          "text": [
            "150\n",
            "['setosa' 'versicolor' 'virginica']\n",
            "3\n",
            "['sepal length (cm)', 'sepal width (cm)', 'petal length (cm)', 'petal width (cm)']\n"
          ],
          "name": "stdout"
        }
      ]
    },
    {
      "cell_type": "markdown",
      "metadata": {
        "id": "Vez75xT6IOMD"
      },
      "source": [
        "Разбить датасет на трейн и тест в отношении 70/30(удобно это делать функцией sklearn.model_selection.train_test_split). \r\n"
      ]
    },
    {
      "cell_type": "code",
      "metadata": {
        "colab": {
          "base_uri": "https://localhost:8080/"
        },
        "id": "jY4EyIYTIY6n",
        "outputId": "b8ef0e5f-ffca-446d-ff67-fc01eec5c606"
      },
      "source": [
        "from sklearn.model_selection import train_test_split\r\n",
        "X = a.data     #data\r\n",
        "y = a.target   #class\r\n",
        "\r\n",
        "X_train, X_test, y_train, y_test = train_test_split(X, y, train_size=0.7)\r\n",
        "print(len(X_train) / (len(X_train)+len(X_test)))"
      ],
      "execution_count": 32,
      "outputs": [
        {
          "output_type": "stream",
          "text": [
            "0.7\n"
          ],
          "name": "stdout"
        }
      ]
    },
    {
      "cell_type": "markdown",
      "metadata": {
        "id": "vV21Q857My9d"
      },
      "source": [
        "Обучить алгоритмы 3х ближайших соседей, логистической регрессии, svm, дерево. \r\n",
        "Вывести матрицы неточностей (confusion matrix) для каждого алгоритма. \r\n",
        "Рассчитать точность и полноту и f-меру по макро и микро усреднению. \r\n"
      ]
    },
    {
      "cell_type": "code",
      "metadata": {
        "colab": {
          "base_uri": "https://localhost:8080/"
        },
        "id": "klw7qNy4M04C",
        "outputId": "8c947fef-25fb-423b-8ebe-2d526279f067"
      },
      "source": [
        "from sklearn.neighbors import KNeighborsClassifier\r\n",
        "neigh = KNeighborsClassifier(n_neighbors=3) #len(a.target_names)\r\n",
        "neigh.fit(X_train, y_train)\r\n",
        "b = neigh.predict(X_test)\r\n",
        "print(b)\r\n",
        "print(y_test)"
      ],
      "execution_count": 33,
      "outputs": [
        {
          "output_type": "stream",
          "text": [
            "[1 2 0 2 1 1 1 0 2 0 2 0 2 2 1 0 0 1 0 0 0 1 2 0 1 1 0 1 0 1 1 1 0 1 2 2 1\n",
            " 2 2 2 2 2 1 1 2]\n",
            "[1 2 0 2 1 1 2 0 2 0 2 0 1 2 1 0 0 1 0 0 0 1 2 0 1 1 0 1 0 1 2 1 0 1 2 2 1\n",
            " 2 1 2 2 2 1 1 2]\n"
          ],
          "name": "stdout"
        }
      ]
    }
  ]
}