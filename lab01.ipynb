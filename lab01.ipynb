{
  "nbformat": 4,
  "nbformat_minor": 0,
  "metadata": {
    "colab": {
      "name": "lab01.ipynb",
      "provenance": [],
      "collapsed_sections": []
    },
    "kernelspec": {
      "name": "python3",
      "display_name": "Python 3"
    }
  },
  "cells": [
    {
      "cell_type": "markdown",
      "metadata": {
        "id": "f_WYLY6aFZRy"
      },
      "source": [
        "Загрузить датасет Ирисов (sklearn.datasets.load_iris). \r\n",
        "Вывести количество объектов в датасете. \r\n",
        "Вывести количество классов, их названия. \r\n",
        "Вывести количество признаков, их названия. \r\n"
      ]
    },
    {
      "cell_type": "code",
      "metadata": {
        "colab": {
          "base_uri": "https://localhost:8080/"
        },
        "id": "TqOmQZVZEbar",
        "outputId": "7e69996c-d43b-4109-e92d-806f127b00c8"
      },
      "source": [
        "from sklearn import datasets\r\n",
        "a = datasets.load_iris()\r\n",
        "print(len(a.data))\r\n",
        "\r\n",
        "print(a.target_names)\r\n",
        "print(len(a.target_names))\r\n",
        "\r\n",
        "print(a.feature_names)\r\n",
        "\r\n",
        "#print(a)\r\n"
      ],
      "execution_count": 101,
      "outputs": [
        {
          "output_type": "stream",
          "text": [
            "150\n",
            "['setosa' 'versicolor' 'virginica']\n",
            "3\n",
            "['sepal length (cm)', 'sepal width (cm)', 'petal length (cm)', 'petal width (cm)']\n"
          ],
          "name": "stdout"
        }
      ]
    },
    {
      "cell_type": "markdown",
      "metadata": {
        "id": "Vez75xT6IOMD"
      },
      "source": [
        "Разбить датасет на трейн и тест в отношении 70/30(удобно это делать функцией sklearn.model_selection.train_test_split). \r\n"
      ]
    },
    {
      "cell_type": "code",
      "metadata": {
        "colab": {
          "base_uri": "https://localhost:8080/"
        },
        "id": "jY4EyIYTIY6n",
        "outputId": "78248ed2-3cb3-4340-bd5f-d8d3117d8b37"
      },
      "source": [
        "from sklearn.model_selection import train_test_split\r\n",
        "X = a.data     #data\r\n",
        "y = a.target   #class\r\n",
        "\r\n",
        "X_train, X_test, y_train, y_test = train_test_split(X, y, train_size=0.7)\r\n",
        "print(len(X_train) / (len(X_train)+len(X_test)))"
      ],
      "execution_count": 111,
      "outputs": [
        {
          "output_type": "stream",
          "text": [
            "0.7\n"
          ],
          "name": "stdout"
        }
      ]
    },
    {
      "cell_type": "markdown",
      "metadata": {
        "id": "vV21Q857My9d"
      },
      "source": [
        "Обучить алгоритмы 3х ближайших соседей\r\n"
      ]
    },
    {
      "cell_type": "code",
      "metadata": {
        "colab": {
          "base_uri": "https://localhost:8080/"
        },
        "id": "klw7qNy4M04C",
        "outputId": "62c5494f-03c5-4f48-a90c-7ba82b9af83f"
      },
      "source": [
        "from sklearn.neighbors import KNeighborsClassifier\r\n",
        "from sklearn.metrics import confusion_matrix\r\n",
        "from sklearn.metrics import precision_recall_fscore_support\r\n",
        "\r\n",
        "neigh = KNeighborsClassifier(n_neighbors=3) #len(a.target_names)\r\n",
        "neigh.fit(X_train, y_train)\r\n",
        "result = neigh.predict(X_test)\r\n",
        "print(result)\r\n",
        "print(y_test)\r\n",
        "print(confusion_matrix(y_test, result))\r\n",
        "print(precision_recall_fscore_support(y_test, result, average='macro'))"
      ],
      "execution_count": 112,
      "outputs": [
        {
          "output_type": "stream",
          "text": [
            "[1 1 2 2 0 1 0 2 2 0 0 0 2 0 1 1 2 2 1 2 0 0 2 0 2 0 2 1 0 1 2 2 0 0 2 2 1\n",
            " 2 1 0 1 2 0 0 1]\n",
            "[1 1 2 2 0 1 0 2 1 0 0 0 2 0 1 1 2 2 1 2 0 0 2 0 2 0 2 1 0 1 2 2 0 0 2 2 1\n",
            " 2 1 0 1 2 0 0 1]\n",
            "[[16  0  0]\n",
            " [ 0 12  1]\n",
            " [ 0  0 16]]\n",
            "(0.9803921568627452, 0.9743589743589745, 0.9765656565656565, None)\n"
          ],
          "name": "stdout"
        }
      ]
    },
    {
      "cell_type": "markdown",
      "metadata": {
        "id": "koxUGBmeT3sy"
      },
      "source": [
        "логистической регрессии"
      ]
    },
    {
      "cell_type": "code",
      "metadata": {
        "colab": {
          "base_uri": "https://localhost:8080/"
        },
        "id": "mjuDTbB-UCvv",
        "outputId": "dbbab06d-cecb-471a-ad32-3f01cd140a93"
      },
      "source": [
        "from sklearn.linear_model import LogisticRegression\r\n",
        "lrc = LogisticRegression().fit(X_train, y_train)\r\n",
        "result = lrc.predict(X_test)\r\n",
        "print(result)\r\n",
        "print(y_test)\r\n"
      ],
      "execution_count": 104,
      "outputs": [
        {
          "output_type": "stream",
          "text": [
            "[0 1 2 1 2 0 1 2 1 2 2 2 0 0 0 2 2 1 0 1 0 1 0 0 0 0 2 2 0 2 1 1 1 2 2 2 0\n",
            " 1 0 1 1 2 1 2 1]\n",
            "[0 1 1 1 2 0 1 2 1 2 2 2 0 0 0 2 2 1 0 1 0 1 0 0 0 0 2 2 0 2 1 1 1 2 2 2 0\n",
            " 1 0 1 1 2 1 2 1]\n"
          ],
          "name": "stdout"
        },
        {
          "output_type": "stream",
          "text": [
            "/usr/local/lib/python3.6/dist-packages/sklearn/linear_model/_logistic.py:940: ConvergenceWarning: lbfgs failed to converge (status=1):\n",
            "STOP: TOTAL NO. of ITERATIONS REACHED LIMIT.\n",
            "\n",
            "Increase the number of iterations (max_iter) or scale the data as shown in:\n",
            "    https://scikit-learn.org/stable/modules/preprocessing.html\n",
            "Please also refer to the documentation for alternative solver options:\n",
            "    https://scikit-learn.org/stable/modules/linear_model.html#logistic-regression\n",
            "  extra_warning_msg=_LOGISTIC_SOLVER_CONVERGENCE_MSG)\n"
          ],
          "name": "stderr"
        }
      ]
    },
    {
      "cell_type": "markdown",
      "metadata": {
        "id": "Lz_YbXT7VvFW"
      },
      "source": [
        "дерево"
      ]
    },
    {
      "cell_type": "code",
      "metadata": {
        "colab": {
          "base_uri": "https://localhost:8080/"
        },
        "id": "IxcQ3nXRVwCg",
        "outputId": "45c9ccd9-63cf-490a-9817-4a919e1a37ca"
      },
      "source": [
        "from sklearn.tree import DecisionTreeClassifier\r\n",
        "dtc = DecisionTreeClassifier().fit(X_train, y_train)\r\n",
        "result = dtc.predict(X_test)\r\n",
        "print(result)\r\n",
        "print(y_test)"
      ],
      "execution_count": 105,
      "outputs": [
        {
          "output_type": "stream",
          "text": [
            "[0 1 2 1 2 0 1 2 1 2 2 2 0 0 0 2 2 1 0 1 0 1 0 0 0 0 1 2 0 2 1 1 1 2 2 2 0\n",
            " 2 0 1 1 2 2 2 1]\n",
            "[0 1 1 1 2 0 1 2 1 2 2 2 0 0 0 2 2 1 0 1 0 1 0 0 0 0 2 2 0 2 1 1 1 2 2 2 0\n",
            " 1 0 1 1 2 1 2 1]\n"
          ],
          "name": "stdout"
        }
      ]
    },
    {
      "cell_type": "markdown",
      "metadata": {
        "id": "TyFn45oGYDja"
      },
      "source": [
        "svm"
      ]
    },
    {
      "cell_type": "code",
      "metadata": {
        "colab": {
          "base_uri": "https://localhost:8080/"
        },
        "id": "22SgtSLcYEK0",
        "outputId": "a334c1a9-3e51-4397-844e-0d3becd69d10"
      },
      "source": [
        "from sklearn.svm import LinearSVC\r\n",
        "svc = LinearSVC(max_iter=100000).fit(X_train, y_train)\r\n",
        "result = svc.predict(X_test)\r\n",
        "print(result)\r\n",
        "print(y_test)"
      ],
      "execution_count": 106,
      "outputs": [
        {
          "output_type": "stream",
          "text": [
            "[0 2 2 1 2 0 1 2 1 2 2 2 0 0 0 2 2 1 0 1 0 1 0 0 0 0 2 2 0 2 1 1 1 2 2 2 0\n",
            " 1 0 1 1 2 1 2 1]\n",
            "[0 1 1 1 2 0 1 2 1 2 2 2 0 0 0 2 2 1 0 1 0 1 0 0 0 0 2 2 0 2 1 1 1 2 2 2 0\n",
            " 1 0 1 1 2 1 2 1]\n"
          ],
          "name": "stdout"
        }
      ]
    }
  ]
}