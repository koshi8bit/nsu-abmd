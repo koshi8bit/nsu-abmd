{
  "nbformat": 4,
  "nbformat_minor": 0,
  "metadata": {
    "colab": {
      "name": "lab01.ipynb",
      "provenance": [],
      "collapsed_sections": []
    },
    "kernelspec": {
      "name": "python3",
      "display_name": "Python 3"
    }
  },
  "cells": [
    {
      "cell_type": "markdown",
      "metadata": {
        "id": "f_WYLY6aFZRy"
      },
      "source": [
        "Загрузить датасет Ирисов (sklearn.datasets.load_iris). \r\n",
        "Вывести количество объектов в датасете. \r\n",
        "Вывести количество классов, их названия. \r\n",
        "Вывести количество признаков, их названия. \r\n"
      ]
    },
    {
      "cell_type": "code",
      "metadata": {
        "colab": {
          "base_uri": "https://localhost:8080/"
        },
        "id": "TqOmQZVZEbar",
        "outputId": "6ee17c07-3afe-49e1-ac66-4ebd7759846f"
      },
      "source": [
        "from sklearn import datasets\r\n",
        "a = datasets.load_iris()\r\n",
        "print(len(a.data))\r\n",
        "\r\n",
        "print(a.target_names)\r\n",
        "print(len(a.target_names))\r\n",
        "\r\n",
        "print(a.feature_names)\r\n"
      ],
      "execution_count": 13,
      "outputs": [
        {
          "output_type": "stream",
          "text": [
            "150\n",
            "['setosa' 'versicolor' 'virginica']\n",
            "3\n",
            "['sepal length (cm)', 'sepal width (cm)', 'petal length (cm)', 'petal width (cm)']\n"
          ],
          "name": "stdout"
        }
      ]
    },
    {
      "cell_type": "markdown",
      "metadata": {
        "id": "Vez75xT6IOMD"
      },
      "source": [
        "Разбить датасет на трейн и тест в отношении 70/30(удобно это делать функцией sklearn.model_selection.train_test_split). \r\n"
      ]
    },
    {
      "cell_type": "code",
      "metadata": {
        "id": "jY4EyIYTIY6n"
      },
      "source": [
        "from sklearn.model_selection import train_test_split\r\n"
      ],
      "execution_count": null,
      "outputs": []
    }
  ]
}