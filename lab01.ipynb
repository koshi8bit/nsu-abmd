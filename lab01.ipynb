{
  "nbformat": 4,
  "nbformat_minor": 0,
  "metadata": {
    "colab": {
      "name": "lab01.ipynb",
      "provenance": [],
      "collapsed_sections": []
    },
    "kernelspec": {
      "name": "python3",
      "display_name": "Python 3"
    }
  },
  "cells": [
    {
      "cell_type": "markdown",
      "metadata": {
        "id": "f_WYLY6aFZRy"
      },
      "source": [
        "Загрузить датасет Ирисов (sklearn.datasets.load_iris). \r\n",
        "Вывести количество объектов в датасете. \r\n",
        "Вывести количество классов, их названия. \r\n",
        "Вывести количество признаков, их названия. \r\n"
      ]
    },
    {
      "cell_type": "code",
      "metadata": {
        "colab": {
          "base_uri": "https://localhost:8080/"
        },
        "id": "TqOmQZVZEbar",
        "outputId": "528d5fc9-8b26-46a0-f635-2ddfa2e6abfd"
      },
      "source": [
        "from sklearn import datasets\r\n",
        "a = datasets.load_iris()\r\n",
        "print(len(a.data))\r\n",
        "\r\n",
        "print(a.target_names)\r\n",
        "print(len(a.target_names))\r\n",
        "\r\n",
        "print(a.feature_names)\r\n",
        "\r\n",
        "#print(a)\r\n"
      ],
      "execution_count": 72,
      "outputs": [
        {
          "output_type": "stream",
          "text": [
            "150\n",
            "['setosa' 'versicolor' 'virginica']\n",
            "3\n",
            "['sepal length (cm)', 'sepal width (cm)', 'petal length (cm)', 'petal width (cm)']\n"
          ],
          "name": "stdout"
        }
      ]
    },
    {
      "cell_type": "markdown",
      "metadata": {
        "id": "Vez75xT6IOMD"
      },
      "source": [
        "Разбить датасет на трейн и тест в отношении 70/30(удобно это делать функцией sklearn.model_selection.train_test_split). \r\n"
      ]
    },
    {
      "cell_type": "code",
      "metadata": {
        "colab": {
          "base_uri": "https://localhost:8080/"
        },
        "id": "jY4EyIYTIY6n",
        "outputId": "88989f29-5c7e-4b2d-976a-09ffcb8db868"
      },
      "source": [
        "from sklearn.model_selection import train_test_split\r\n",
        "X = a.data     #data\r\n",
        "y = a.target   #class\r\n",
        "\r\n",
        "X_train, X_test, y_train, y_test = train_test_split(X, y, train_size=0.7)\r\n",
        "print(len(X_train) / (len(X_train)+len(X_test)))"
      ],
      "execution_count": 73,
      "outputs": [
        {
          "output_type": "stream",
          "text": [
            "0.7\n"
          ],
          "name": "stdout"
        }
      ]
    },
    {
      "cell_type": "markdown",
      "metadata": {
        "id": "vV21Q857My9d"
      },
      "source": [
        "Обучить алгоритмы 3х ближайших соседей\r\n"
      ]
    },
    {
      "cell_type": "code",
      "metadata": {
        "colab": {
          "base_uri": "https://localhost:8080/"
        },
        "id": "klw7qNy4M04C",
        "outputId": "3e3bdd73-7cdf-40cd-e38f-e855c486bfca"
      },
      "source": [
        "from sklearn.neighbors import KNeighborsClassifier\r\n",
        "neigh = KNeighborsClassifier(n_neighbors=3) #len(a.target_names)\r\n",
        "neigh.fit(X_train, y_train)\r\n",
        "result = neigh.predict(X_test)\r\n",
        "print(result)\r\n",
        "print(y_test)"
      ],
      "execution_count": 74,
      "outputs": [
        {
          "output_type": "stream",
          "text": [
            "[0 0 2 1 0 2 1 2 0 2 1 0 0 0 2 2 0 2 0 2 1 0 0 1 2 0 2 0 0 1 1 2 1 1 1 0 2\n",
            " 2 2 0 1 0 2 0 1]\n",
            "[0 0 2 1 0 2 1 2 0 2 1 0 0 0 2 2 0 2 0 2 1 0 0 1 2 0 2 0 0 1 1 2 1 1 1 0 2\n",
            " 2 2 0 1 0 2 0 1]\n"
          ],
          "name": "stdout"
        }
      ]
    },
    {
      "cell_type": "markdown",
      "metadata": {
        "id": "koxUGBmeT3sy"
      },
      "source": [
        "логистической регрессии"
      ]
    },
    {
      "cell_type": "code",
      "metadata": {
        "colab": {
          "base_uri": "https://localhost:8080/"
        },
        "id": "mjuDTbB-UCvv",
        "outputId": "df9a651e-2d32-4999-b425-55464b3d5203"
      },
      "source": [
        "from sklearn.linear_model import LogisticRegression\r\n",
        "lrc = LogisticRegression().fit(X_train, y_train)\r\n",
        "result = lrc.predict(X_test)\r\n",
        "print(result)\r\n",
        "print(y_test)\r\n"
      ],
      "execution_count": 75,
      "outputs": [
        {
          "output_type": "stream",
          "text": [
            "[0 0 2 1 0 2 1 2 0 2 1 0 0 0 2 2 0 2 0 2 1 0 0 1 2 0 2 0 0 1 1 2 1 1 1 0 2\n",
            " 2 2 0 1 0 2 0 1]\n",
            "[0 0 2 1 0 2 1 2 0 2 1 0 0 0 2 2 0 2 0 2 1 0 0 1 2 0 2 0 0 1 1 2 1 1 1 0 2\n",
            " 2 2 0 1 0 2 0 1]\n"
          ],
          "name": "stdout"
        }
      ]
    },
    {
      "cell_type": "markdown",
      "metadata": {
        "id": "Lz_YbXT7VvFW"
      },
      "source": [
        "дерево"
      ]
    },
    {
      "cell_type": "code",
      "metadata": {
        "colab": {
          "base_uri": "https://localhost:8080/"
        },
        "id": "IxcQ3nXRVwCg",
        "outputId": "26b1e5c7-6162-4c82-bc1c-73a352220e21"
      },
      "source": [
        "from sklearn.tree import DecisionTreeClassifier\r\n",
        "dtc = DecisionTreeClassifier().fit(X_train, y_train)\r\n",
        "result = dtc.predict(X_test)\r\n",
        "print(result)\r\n",
        "print(y_test)"
      ],
      "execution_count": 76,
      "outputs": [
        {
          "output_type": "stream",
          "text": [
            "[0 0 2 1 0 2 1 2 0 2 1 0 0 0 2 2 0 2 0 2 1 0 0 1 2 0 2 0 0 1 1 2 1 1 1 0 1\n",
            " 2 2 0 1 0 2 0 1]\n",
            "[0 0 2 1 0 2 1 2 0 2 1 0 0 0 2 2 0 2 0 2 1 0 0 1 2 0 2 0 0 1 1 2 1 1 1 0 2\n",
            " 2 2 0 1 0 2 0 1]\n"
          ],
          "name": "stdout"
        }
      ]
    },
    {
      "cell_type": "markdown",
      "metadata": {
        "id": "TyFn45oGYDja"
      },
      "source": [
        "svm"
      ]
    },
    {
      "cell_type": "code",
      "metadata": {
        "colab": {
          "base_uri": "https://localhost:8080/"
        },
        "id": "22SgtSLcYEK0",
        "outputId": "ba9ce581-04d3-495f-818e-0aeb75cdf6af"
      },
      "source": [
        "from sklearn.svm import LinearSVC\r\n",
        "svc = LinearSVC(max_iter=100000).fit(X_train, y_train)\r\n",
        "result = svc.predict(X_test)\r\n",
        "print(result)\r\n",
        "print(y_test)"
      ],
      "execution_count": 81,
      "outputs": [
        {
          "output_type": "stream",
          "text": [
            "[0 0 2 1 0 2 1 2 0 2 1 0 0 0 2 2 0 2 0 2 1 0 0 1 2 0 2 0 0 2 1 2 1 1 1 0 1\n",
            " 2 2 0 1 0 2 0 1]\n",
            "[0 0 2 1 0 2 1 2 0 2 1 0 0 0 2 2 0 2 0 2 1 0 0 1 2 0 2 0 0 1 1 2 1 1 1 0 2\n",
            " 2 2 0 1 0 2 0 1]\n"
          ],
          "name": "stdout"
        }
      ]
    }
  ]
}